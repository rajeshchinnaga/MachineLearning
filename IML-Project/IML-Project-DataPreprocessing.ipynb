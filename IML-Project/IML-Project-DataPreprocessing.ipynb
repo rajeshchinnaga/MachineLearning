{
 "cells": [
  {
   "cell_type": "markdown",
   "id": "9d6c1e78",
   "metadata": {},
   "source": [
    "### Collecting Datasets:  "
   ]
  },
  {
   "cell_type": "markdown",
   "id": "bc2c3e80",
   "metadata": {},
   "source": [
    "1) https://www.phishtank.com/developer_info.php - Verified_online_csv file has been taken from phishtank website that contains all the phishing urls."
   ]
  },
  {
   "cell_type": "markdown",
   "id": "6d987f54",
   "metadata": {},
   "source": [
    "2) https://www.unb.ca/cic/datasets/url-2016.html - All the legitimate URL's has been taken form the mentioned website, Provide the details after clocking the down load dataset. Unzip the folder and select URL and from the URL a file called \"Benign_list_big_final.csv\"\" will be available which contains True URL's."
   ]
  },
  {
   "cell_type": "markdown",
   "id": "aef4cb92",
   "metadata": {},
   "source": [
    "**Phishing URLs:**"
   ]
  },
  {
   "cell_type": "code",
   "execution_count": null,
   "id": "426eda21",
   "metadata": {},
   "outputs": [],
   "source": [
    "import pandas as pd\n",
    "phishingDataFrame = pd.read_csv(\"verified_online.csv\")\n",
    "phishingDataFrame.head()"
   ]
  },
  {
   "cell_type": "code",
   "execution_count": null,
   "id": "b4d9bd3d",
   "metadata": {},
   "outputs": [],
   "source": [
    "phishingDataFrame.shape"
   ]
  },
  {
   "cell_type": "markdown",
   "id": "0f3dea2c",
   "metadata": {},
   "source": [
    "\"Verified_online.csv\" file has more than 20,000 records. so among them we are selecting 5000 samples of data for our project purpose."
   ]
  },
  {
   "cell_type": "code",
   "execution_count": null,
   "id": "2e581231",
   "metadata": {},
   "outputs": [],
   "source": [
    "phishingUrl = phishingDataFrame.sample(n = 5000).copy()\n",
    "phishingUrl = phishingUrl.reset_index(drop=True)"
   ]
  },
  {
   "cell_type": "code",
   "execution_count": null,
   "id": "69b4b0ca",
   "metadata": {
    "scrolled": true
   },
   "outputs": [],
   "source": [
    "phishingUrl.head()"
   ]
  },
  {
   "cell_type": "code",
   "execution_count": null,
   "id": "6b1aaa1f",
   "metadata": {},
   "outputs": [],
   "source": [
    "phishingUrl.shape"
   ]
  },
  {
   "cell_type": "markdown",
   "id": "2f36c0b9",
   "metadata": {},
   "source": [
    "**True/legitimate URLs:**"
   ]
  },
  {
   "cell_type": "code",
   "execution_count": null,
   "id": "b0097a9d",
   "metadata": {},
   "outputs": [],
   "source": [
    "import pandas as pd\n",
    "trueUrlDataFrame = pd.read_csv(\"Benign_list_big_final.csv\")\n",
    "trueUrlDataFrame.head()"
   ]
  },
  {
   "cell_type": "code",
   "execution_count": null,
   "id": "ba8bc7ef",
   "metadata": {},
   "outputs": [],
   "source": [
    "trueUrlDataFrame.columns = ['url']\n",
    "trueUrlDataFrame.head()"
   ]
  },
  {
   "cell_type": "code",
   "execution_count": null,
   "id": "f940cb81",
   "metadata": {},
   "outputs": [],
   "source": [
    "trueUrlDataFrame.shape"
   ]
  },
  {
   "cell_type": "markdown",
   "id": "6722c7f2",
   "metadata": {},
   "source": [
    "\"Benign_list_big_final.csv\" file has more than 35,000 records. so among them we are selecting 5000 samples of data for our project purpose."
   ]
  },
  {
   "cell_type": "code",
   "execution_count": null,
   "id": "04eac374",
   "metadata": {},
   "outputs": [],
   "source": [
    "trueUrl = trueUrlDataFrame.sample(n = 5000).copy()\n",
    "trueUrl = trueUrl.reset_index(drop=True)"
   ]
  },
  {
   "cell_type": "code",
   "execution_count": null,
   "id": "4a23e214",
   "metadata": {},
   "outputs": [],
   "source": [
    "trueUrl.head()"
   ]
  },
  {
   "cell_type": "code",
   "execution_count": null,
   "id": "45a3e5a8",
   "metadata": {},
   "outputs": [],
   "source": [
    "trueUrl.shape"
   ]
  },
  {
   "cell_type": "markdown",
   "id": "6a8fce1e",
   "metadata": {},
   "source": [
    "### Extracting Features from the Phishing and True URL datasets :"
   ]
  },
  {
   "cell_type": "code",
   "execution_count": null,
   "id": "b0bd876c",
   "metadata": {},
   "outputs": [],
   "source": [
    "from urllib.parse import urlparse,urlencode\n",
    "import re\n",
    "import ipaddress"
   ]
  },
  {
   "cell_type": "markdown",
   "id": "aca245ef",
   "metadata": {},
   "source": [
    "**Domain of the Url:**"
   ]
  },
  {
   "cell_type": "code",
   "execution_count": null,
   "id": "d06ad648",
   "metadata": {},
   "outputs": [],
   "source": [
    "def extractDomain(url):  \n",
    "  dom = urlparse(url).netloc\n",
    "  if re.match(r\"^www.\",dom):\n",
    "      dom = dom.replace(\"www.\",\"\")\n",
    "  return dom"
   ]
  },
  {
   "cell_type": "markdown",
   "id": "d0c8b4ce",
   "metadata": {},
   "source": [
    "**IP Adress from the URL**"
   ]
  },
  {
   "cell_type": "markdown",
   "id": "da2e5400",
   "metadata": {},
   "source": [
    "We are marking ip_address as 1 when we find IP address in the URL which means phishing otherwise 0 which means true/Legit URL."
   ]
  },
  {
   "cell_type": "code",
   "execution_count": null,
   "id": "93219dee",
   "metadata": {},
   "outputs": [],
   "source": [
    "def isIP(url):\n",
    "  try:\n",
    "    ipaddress.ip_address(url)\n",
    "    ipAddress = 1\n",
    "  except:\n",
    "    ipAddress = 0\n",
    "  return ipAddress"
   ]
  },
  {
   "cell_type": "markdown",
   "id": "09221936",
   "metadata": {},
   "source": [
    "**Length of the URL**"
   ]
  },
  {
   "cell_type": "markdown",
   "id": "2692924b",
   "metadata": {},
   "source": [
    "We are marking the length as 1 if the length of the URL is more than 60 which means Phishing URL otherwise 0 which means True/Legit URL."
   ]
  },
  {
   "cell_type": "code",
   "execution_count": null,
   "id": "653ce0a2",
   "metadata": {},
   "outputs": [],
   "source": [
    "def checkLength(url):\n",
    "  if len(url) > 60:\n",
    "    urlLength = 1            \n",
    "  else:\n",
    "    urlLength = 0            \n",
    "  return urlLength"
   ]
  },
  {
   "cell_type": "markdown",
   "id": "54490123",
   "metadata": {},
   "source": [
    "**Depth of the URL**"
   ]
  },
  {
   "cell_type": "markdown",
   "id": "05f6226e",
   "metadata": {},
   "source": [
    "Depth of the url signifies the number of pages present on the website, we can find out that by the number of \"/\" in the url."
   ]
  },
  {
   "cell_type": "code",
   "execution_count": null,
   "id": "7c84df65",
   "metadata": {},
   "outputs": [],
   "source": [
    "def checkDepth(url):\n",
    "  pages = urlparse(url).path.split('/')\n",
    "  urlDepth = 0\n",
    "  for i in range(len(pages)):\n",
    "    if len(pages[i]) != 0:\n",
    "      urlDepth = urlDepth+1\n",
    "  return urlDepth"
   ]
  },
  {
   "cell_type": "markdown",
   "id": "c8c985dd",
   "metadata": {},
   "source": [
    "**http/https in Domain name**"
   ]
  },
  {
   "cell_type": "markdown",
   "id": "f0df2700",
   "metadata": {},
   "source": [
    "If we have http/https in the domain name then we marking the Domain as 1 which is phishing otherwise 0 which means true/legit URL."
   ]
  },
  {
   "cell_type": "code",
   "execution_count": null,
   "id": "7079c4f6",
   "metadata": {},
   "outputs": [],
   "source": [
    "def checkHttp(url):\n",
    "  dom = urlparse(url).netloc\n",
    "  if 'https' in dom:\n",
    "    return 1\n",
    "  else:\n",
    "    return 0"
   ]
  },
  {
   "cell_type": "markdown",
   "id": "1ddec8ef",
   "metadata": {},
   "source": [
    "**@ Symbol**"
   ]
  },
  {
   "cell_type": "markdown",
   "id": "9898e9e8",
   "metadata": {},
   "source": [
    "We are marking the URL as 1 - phishing if the URL has @ otherwise 0 - if the URL doesnt have @ symbol which mean true/legit URL."
   ]
  },
  {
   "cell_type": "code",
   "execution_count": null,
   "id": "cf2d420f",
   "metadata": {},
   "outputs": [],
   "source": [
    "def checkSymbol(url):\n",
    "  if \"@\" in url:\n",
    "    symbol = 1    \n",
    "  else:\n",
    "    symbol = 0    \n",
    "  return symbol"
   ]
  },
  {
   "cell_type": "markdown",
   "id": "b374ff13",
   "metadata": {},
   "source": [
    "**\"-\" in Domain**"
   ]
  },
  {
   "cell_type": "markdown",
   "id": "1d731475",
   "metadata": {},
   "source": [
    "We are marking the label as 1 if the URL has - symbol which means phishing otherwise as 0 which means true/legit URL."
   ]
  },
  {
   "cell_type": "code",
   "execution_count": null,
   "id": "2f7c8cdd",
   "metadata": {},
   "outputs": [],
   "source": [
    "def checkDashSymbol(url):\n",
    "    if '-' in urlparse(url).netloc:\n",
    "        return 1            \n",
    "    else:\n",
    "        return 0           "
   ]
  },
  {
   "cell_type": "markdown",
   "id": "0b596e5e",
   "metadata": {},
   "source": [
    "**// in URL**"
   ]
  },
  {
   "cell_type": "markdown",
   "id": "958e0a38",
   "metadata": {},
   "source": [
    "If // is available at 6th or 7th position then we are marking those urls as true (0)  which means legit/true URL's otherwise we will mark as 1 which means phishing."
   ]
  },
  {
   "cell_type": "code",
   "execution_count": null,
   "id": "977d4439",
   "metadata": {},
   "outputs": [],
   "source": [
    "def checkRedirection(url):\n",
    "  position = url.rfind('//')\n",
    "  if position != 6 or position!=7:\n",
    "      return 1\n",
    "  else:\n",
    "    return 0"
   ]
  },
  {
   "cell_type": "markdown",
   "id": "e8ba3d9f",
   "metadata": {},
   "source": [
    "#### Tiny URL Usage:"
   ]
  },
  {
   "cell_type": "markdown",
   "id": "6d285c98",
   "metadata": {},
   "source": [
    "We are marking the URL's that has tiny URL as 1 which means phishiing otherwise 0 which means true/legit URL."
   ]
  },
  {
   "cell_type": "code",
   "execution_count": null,
   "id": "b2a84e5d",
   "metadata": {},
   "outputs": [],
   "source": [
    "tinyUrl = r\"bit\\.ly|goo\\.gl|shorte\\.st|go2l\\.ink|x\\.co|ow\\.ly|t\\.co|tinyurl|tr\\.im|is\\.gd|cli\\.gs|\" \\\n",
    "                      r\"yfrog\\.com|migre\\.me|ff\\.im|tiny\\.cc|url4\\.eu|twit\\.ac|su\\.pr|twurl\\.nl|snipurl\\.com|\" \\\n",
    "                      r\"short\\.to|BudURL\\.com|ping\\.fm|post\\.ly|Just\\.as|bkite\\.com|snipr\\.com|fic\\.kr|loopt\\.us|\" \\\n",
    "                      r\"doiop\\.com|short\\.ie|kl\\.am|wp\\.me|rubyurl\\.com|om\\.ly|to\\.ly|bit\\.do|t\\.co|lnkd\\.in|db\\.tt|\" \\\n",
    "                      r\"qr\\.ae|adf\\.ly|goo\\.gl|bitly\\.com|cur\\.lv|tinyurl\\.com|ow\\.ly|bit\\.ly|ity\\.im|q\\.gs|is\\.gd|\" \\\n",
    "                      r\"po\\.st|bc\\.vc|twitthis\\.com|u\\.to|j\\.mp|buzurl\\.com|cutt\\.us|u\\.bb|yourls\\.org|x\\.co|\" \\\n",
    "                      r\"prettylinkpro\\.com|scrnch\\.me|filoops\\.info|vzturl\\.com|qr\\.net|1url\\.com|tweez\\.me|v\\.gd|\" \\\n",
    "                      r\"tr\\.im|link\\.zip\\.net\""
   ]
  },
  {
   "cell_type": "code",
   "execution_count": null,
   "id": "d7ad80b5",
   "metadata": {},
   "outputs": [],
   "source": [
    "def checkTinyURL(url):\n",
    "    match=re.search(tinyUrl,url)\n",
    "    if match:\n",
    "        return 1\n",
    "    else:\n",
    "        return 0"
   ]
  },
  {
   "cell_type": "markdown",
   "id": "e21e2083",
   "metadata": {},
   "source": [
    "### HTML Features"
   ]
  },
  {
   "cell_type": "code",
   "execution_count": null,
   "id": "7b67f275",
   "metadata": {},
   "outputs": [],
   "source": [
    "import requests"
   ]
  },
  {
   "cell_type": "markdown",
   "id": "1f5eb964",
   "metadata": {},
   "source": [
    "#### Website Redirection"
   ]
  },
  {
   "cell_type": "code",
   "execution_count": null,
   "id": "ce8cf267",
   "metadata": {},
   "outputs": [],
   "source": [
    "def redirection(response):\n",
    "  if response == \"\":\n",
    "    return 1\n",
    "  else:\n",
    "    if len(response.history) <= 2:\n",
    "      return 0\n",
    "    else:\n",
    "      return 1"
   ]
  },
  {
   "cell_type": "markdown",
   "id": "980ecf48",
   "metadata": {},
   "source": [
    "#### Right Click Disabled"
   ]
  },
  {
   "cell_type": "code",
   "execution_count": null,
   "id": "a89ab728",
   "metadata": {},
   "outputs": [],
   "source": [
    "def checkRightClick(response):\n",
    "  if response == \"\":\n",
    "    return 1\n",
    "  else:\n",
    "    if re.findall(r\"event.button ?== ?2\", response.text):\n",
    "      return 0\n",
    "    else:\n",
    "      return 1"
   ]
  },
  {
   "cell_type": "markdown",
   "id": "7c5eac87",
   "metadata": {},
   "source": [
    "#### Using IFrame for redirection"
   ]
  },
  {
   "cell_type": "code",
   "execution_count": null,
   "id": "3cf8f7b5",
   "metadata": {},
   "outputs": [],
   "source": [
    "def checkIframe(response):\n",
    "  if response == \"\":\n",
    "      return 1\n",
    "  else:\n",
    "      if re.findall(r\"[<iframe>|<frameBorder>]\", response.text):\n",
    "          return 0\n",
    "      else:\n",
    "          return 1"
   ]
  },
  {
   "cell_type": "markdown",
   "id": "4e91b16a",
   "metadata": {},
   "source": [
    "#### Customization of the status bar"
   ]
  },
  {
   "cell_type": "code",
   "execution_count": null,
   "id": "c47fd024",
   "metadata": {},
   "outputs": [],
   "source": [
    "def mouseOverStatusBar(response): \n",
    "  if response == \"\" :\n",
    "    return 1\n",
    "  else:\n",
    "    if re.findall(\"<script>.+onmouseover.+</script>\", response.text):\n",
    "      return 1\n",
    "    else:\n",
    "      return 0"
   ]
  },
  {
   "cell_type": "markdown",
   "id": "19798380",
   "metadata": {},
   "source": [
    "### Additional Features:"
   ]
  },
  {
   "cell_type": "code",
   "execution_count": null,
   "id": "5523f9b3",
   "metadata": {},
   "outputs": [],
   "source": [
    "import re\n",
    "from bs4 import BeautifulSoup\n",
    "import whois\n",
    "import urllib\n",
    "import urllib.request\n",
    "from datetime import datetime"
   ]
  },
  {
   "cell_type": "markdown",
   "id": "511917a3",
   "metadata": {},
   "source": [
    "#### Age of Domain"
   ]
  },
  {
   "cell_type": "markdown",
   "id": "efe741f7",
   "metadata": {},
   "source": [
    "Since most phishing websites are only active for a few time, we will use the WHOIS database for this. We set the cutoff point at 12, thus all websites older than 12 months will be labeled as phishing while the others will be identified as genuine."
   ]
  },
  {
   "cell_type": "code",
   "execution_count": null,
   "id": "b3a96585",
   "metadata": {},
   "outputs": [],
   "source": [
    "def ageOfDomain(domain_name):\n",
    "  createdDate = domain_name.creation_date\n",
    "  expirationDate = domain_name.expiration_date\n",
    "  if (isinstance(createdDate,str) or isinstance(expirationDate,str)):\n",
    "    try:\n",
    "      createdDate = datetime.strptime(createdDate,'%Y-%m-%d')\n",
    "      expirationDate = datetime.strptime(expirationDate,\"%Y-%m-%d\")\n",
    "    except:\n",
    "      return 1\n",
    "  if ((expirationDate is None) or (createdDate is None)):\n",
    "      return 1\n",
    "  elif ((type(expirationDate) is list) or (type(createdDate) is list)):\n",
    "      return 1\n",
    "  else:\n",
    "    domainAge = abs((expirationDate - createdDate).days)\n",
    "    if ((domainAge/30) < 6):\n",
    "      age = 1\n",
    "    else:\n",
    "      age = 0\n",
    "  return age"
   ]
  },
  {
   "cell_type": "markdown",
   "id": "c24f6b71",
   "metadata": {},
   "source": [
    "**End of Domain**"
   ]
  },
  {
   "cell_type": "markdown",
   "id": "98f8920a",
   "metadata": {},
   "source": [
    "We'll make use of the WHOIS database. The remaining domain time for this feature is determined by comparing the current time to the expiration time. For this project, the end time taken into account for the legal realm is six months or fewer.\n",
    "\n",
    "The value of this feature is 1 (phishing) if the end time of the domain exceeds six months; otherwise, it is 0. (true)."
   ]
  },
  {
   "cell_type": "code",
   "execution_count": null,
   "id": "2f603590",
   "metadata": {},
   "outputs": [],
   "source": [
    "def domainEnd(domain_name):\n",
    "  expiration_date = domain_name.expiration_date\n",
    "  if isinstance(expiration_date,str):\n",
    "    try:\n",
    "      expiration_date = datetime.strptime(expiration_date,\"%Y-%m-%d\")\n",
    "    except:\n",
    "      return 1\n",
    "  if (expiration_date is None):\n",
    "      return 1\n",
    "  elif (type(expiration_date) is list):\n",
    "      return 1\n",
    "  else:\n",
    "    today = datetime.now()\n",
    "    end = abs((expiration_date - today).days)\n",
    "    if ((end/30) < 6):\n",
    "      end = 0\n",
    "    else:\n",
    "      end = 1\n",
    "  return end"
   ]
  },
  {
   "cell_type": "markdown",
   "id": "4bc33d78",
   "metadata": {},
   "source": [
    "#### Website Traffic"
   ]
  },
  {
   "cell_type": "markdown",
   "id": "c81debdb",
   "metadata": {},
   "source": [
    "A website's popularity can help determine whether it is a legitimate website or a phishing website. We may determine this by counting the amount of webpage hits. Since the Alexa database provides a compilation of the most popular websites worldwide, we will use it for this. A website will be flagged as phishing if its Alexa score is less than 100000; else, it will be marked as 0."
   ]
  },
  {
   "cell_type": "code",
   "execution_count": null,
   "id": "11729d12",
   "metadata": {},
   "outputs": [],
   "source": [
    "def checkWebTrafficPopularity(url):\n",
    "  try:\n",
    "    url = urllib.parse.quote(url)\n",
    "    rank = BeautifulSoup(urllib.request.urlopen(\"http://data.alexa.com/data?cli=10&dat=s&url=\" + url).read(), \"xml\").find(\n",
    "        \"REACH\")['RANK']\n",
    "    rank = int(rank)\n",
    "  except TypeError:\n",
    "        return 1\n",
    "  if rank <100000:\n",
    "    return 1\n",
    "  else:\n",
    "    return 0"
   ]
  },
  {
   "cell_type": "markdown",
   "id": "942f61cf",
   "metadata": {},
   "source": [
    "### Creating a function for Feature Extraction"
   ]
  },
  {
   "cell_type": "code",
   "execution_count": null,
   "id": "b142a97b",
   "metadata": {},
   "outputs": [],
   "source": [
    "def featureExtraction(url,label):\n",
    "\n",
    "  features = []\n",
    "  features.append(extractDomain(url))\n",
    "  features.append(isIP(url))\n",
    "  features.append(checkSymbol(url))\n",
    "  features.append(checkLength(url))\n",
    "  features.append(checkDepth(url))\n",
    "  features.append(checkRedirection(url))\n",
    "  features.append(checkHttp(url))\n",
    "  features.append(checkTinyURL(url))\n",
    "  features.append(checkDashSymbol(url))\n",
    "  dns = 0\n",
    "  try:\n",
    "    domain_name = whois.whois(urlparse(url).netloc)\n",
    "  except:\n",
    "    dns = 1\n",
    "  features.append(dns)\n",
    "  features.append(checkWebTrafficPopularity(url))\n",
    "  features.append(1 if dns == 1 else ageOfDomain(domain_name))\n",
    "  features.append(1 if dns == 1 else domainEnd(domain_name))\n",
    "  \n",
    "  # HTML & Javascript based features (4)\n",
    "  try:\n",
    "    response = requests.get(url)\n",
    "  except:\n",
    "    response = \"\"\n",
    "  features.append(checkIframe(response))\n",
    "  features.append(mouseOverStatusBar(response))\n",
    "  features.append(checkRightClick(response))\n",
    "  features.append(redirection(response))\n",
    "  features.append(label)\n",
    "  \n",
    "  return features"
   ]
  },
  {
   "cell_type": "markdown",
   "id": "f10ff7cd",
   "metadata": {},
   "source": [
    "### Extracting Features of the Phishing URLS"
   ]
  },
  {
   "cell_type": "code",
   "execution_count": null,
   "id": "689ef802",
   "metadata": {},
   "outputs": [],
   "source": [
    "from tqdm import tqdm\n",
    "phishingFeatures = []\n",
    "label = 1\n",
    "for i in tqdm(range(0, 5000)):\n",
    "  url = phishingUrl['url'][i]\n",
    "  phishingFeatures.append(featureExtraction(url,label))"
   ]
  },
  {
   "cell_type": "code",
   "execution_count": null,
   "id": "25ed9268",
   "metadata": {},
   "outputs": [],
   "source": [
    "phishingFeatures"
   ]
  },
  {
   "cell_type": "code",
   "execution_count": null,
   "id": "c339a038",
   "metadata": {},
   "outputs": [],
   "source": [
    "featureNames = ['Domain', 'Have_IP', 'Have_At', 'URL_Length', 'URL_Depth','Redirection', \n",
    "                      'https_Domain', 'TinyURL', 'Prefix/Suffix', 'DNS_Record', 'Web_Traffic', \n",
    "                      'Domain_Age', 'Domain_End', 'iFrame', 'Mouse_Over','Right_Click', 'Web_Forwards', 'Label']\n",
    "\n",
    "phishingDataset = pd.DataFrame(phishingFeatures, columns= featureNames)"
   ]
  },
  {
   "cell_type": "markdown",
   "id": "190cfc55",
   "metadata": {},
   "source": [
    "### Extracting Features of the True URLS"
   ]
  },
  {
   "cell_type": "code",
   "execution_count": null,
   "id": "d3071097",
   "metadata": {},
   "outputs": [],
   "source": [
    "from tqdm import tqdm\n",
    "trueFeatures = []\n",
    "label = 0\n",
    "\n",
    "for i in tqdm(range(0, 5000)):\n",
    "  url = trueUrl['url'][i]\n",
    "  trueFeatures.append(featureExtraction(url,label))"
   ]
  },
  {
   "cell_type": "code",
   "execution_count": null,
   "id": "97820c81",
   "metadata": {},
   "outputs": [],
   "source": [
    "featureNames = ['Domain', 'Have_IP', 'Have_At', 'URL_Length', 'URL_Depth','Redirection', \n",
    "                      'https_Domain', 'TinyURL', 'Prefix/Suffix', 'DNS_Record', 'Web_Traffic', \n",
    "                      'Domain_Age', 'Domain_End', 'iFrame', 'Mouse_Over','Right_Click', 'Web_Forwards', 'Label']\n",
    "\n",
    "trueDataset = pd.DataFrame(trueFeatures, columns= featureNames)"
   ]
  },
  {
   "cell_type": "code",
   "execution_count": null,
   "id": "d44f34a9",
   "metadata": {},
   "outputs": [],
   "source": [
    "phishingProjectDataset = pd.concat([trueDataset, phishingDataset]).reset_index(drop=True)"
   ]
  },
  {
   "cell_type": "markdown",
   "id": "0d0c0a4e",
   "metadata": {},
   "source": [
    "\"phishingProjectDataset.csv\" - This file contains both 5000 Phishing URL's along with features and 5000 Legit/True URLS's along with features which we will be using for training the models."
   ]
  },
  {
   "cell_type": "code",
   "execution_count": null,
   "id": "bd0ff972",
   "metadata": {},
   "outputs": [],
   "source": [
    "phishingProjectDataset.to_csv('phishingProjectDataset.csv', index=False)"
   ]
  }
 ],
 "metadata": {
  "kernelspec": {
   "display_name": "Python 3 (ipykernel)",
   "language": "python",
   "name": "python3"
  },
  "language_info": {
   "codemirror_mode": {
    "name": "ipython",
    "version": 3
   },
   "file_extension": ".py",
   "mimetype": "text/x-python",
   "name": "python",
   "nbconvert_exporter": "python",
   "pygments_lexer": "ipython3",
   "version": "3.9.12"
  }
 },
 "nbformat": 4,
 "nbformat_minor": 5
}
